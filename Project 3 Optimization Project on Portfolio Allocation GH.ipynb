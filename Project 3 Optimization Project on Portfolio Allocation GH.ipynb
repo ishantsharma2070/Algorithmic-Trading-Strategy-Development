{
 "cells": [
  {
   "cell_type": "code",
   "execution_count": 2,
   "metadata": {},
   "outputs": [
    {
     "name": "stderr",
     "output_type": "stream",
     "text": [
      "[*********************100%***********************]  4 of 4 completed\n"
     ]
    }
   ],
   "source": [
    "import yfinance as yf\n",
    "import pandas as pd\n",
    "\n",
    "# Define the stock tickers and time period\n",
    "tickers = ['AAPL', 'MSFT', 'GOOGL', 'AMZN']\n",
    "start_date = '2020-01-01'\n",
    "end_date = '2023-01-01'\n",
    "\n",
    "# Download historical data for the tickers\n",
    "data = yf.download(tickers, start=start_date, end=end_date)['Adj Close']"
   ]
  },
  {
   "cell_type": "code",
   "execution_count": 4,
   "metadata": {},
   "outputs": [],
   "source": [
    "returns = data.pct_change().dropna()"
   ]
  },
  {
   "cell_type": "code",
   "execution_count": 5,
   "metadata": {},
   "outputs": [
    {
     "data": {
      "text/html": [
       "<div>\n",
       "<style scoped>\n",
       "    .dataframe tbody tr th:only-of-type {\n",
       "        vertical-align: middle;\n",
       "    }\n",
       "\n",
       "    .dataframe tbody tr th {\n",
       "        vertical-align: top;\n",
       "    }\n",
       "\n",
       "    .dataframe thead th {\n",
       "        text-align: right;\n",
       "    }\n",
       "</style>\n",
       "<table border=\"1\" class=\"dataframe\">\n",
       "  <thead>\n",
       "    <tr style=\"text-align: right;\">\n",
       "      <th>Ticker</th>\n",
       "      <th>AAPL</th>\n",
       "      <th>AMZN</th>\n",
       "      <th>GOOGL</th>\n",
       "      <th>MSFT</th>\n",
       "    </tr>\n",
       "    <tr>\n",
       "      <th>Date</th>\n",
       "      <th></th>\n",
       "      <th></th>\n",
       "      <th></th>\n",
       "      <th></th>\n",
       "    </tr>\n",
       "  </thead>\n",
       "  <tbody>\n",
       "    <tr>\n",
       "      <th>2020-01-03 00:00:00+00:00</th>\n",
       "      <td>-0.009722</td>\n",
       "      <td>-0.012139</td>\n",
       "      <td>-0.005231</td>\n",
       "      <td>-0.012452</td>\n",
       "    </tr>\n",
       "    <tr>\n",
       "      <th>2020-01-06 00:00:00+00:00</th>\n",
       "      <td>0.007969</td>\n",
       "      <td>0.014886</td>\n",
       "      <td>0.026654</td>\n",
       "      <td>0.002585</td>\n",
       "    </tr>\n",
       "    <tr>\n",
       "      <th>2020-01-07 00:00:00+00:00</th>\n",
       "      <td>-0.004703</td>\n",
       "      <td>0.002092</td>\n",
       "      <td>-0.001931</td>\n",
       "      <td>-0.009118</td>\n",
       "    </tr>\n",
       "    <tr>\n",
       "      <th>2020-01-08 00:00:00+00:00</th>\n",
       "      <td>0.016086</td>\n",
       "      <td>-0.007809</td>\n",
       "      <td>0.007118</td>\n",
       "      <td>0.015929</td>\n",
       "    </tr>\n",
       "    <tr>\n",
       "      <th>2020-01-09 00:00:00+00:00</th>\n",
       "      <td>0.021241</td>\n",
       "      <td>0.004799</td>\n",
       "      <td>0.010498</td>\n",
       "      <td>0.012493</td>\n",
       "    </tr>\n",
       "    <tr>\n",
       "      <th>...</th>\n",
       "      <td>...</td>\n",
       "      <td>...</td>\n",
       "      <td>...</td>\n",
       "      <td>...</td>\n",
       "    </tr>\n",
       "    <tr>\n",
       "      <th>2022-12-23 00:00:00+00:00</th>\n",
       "      <td>-0.002798</td>\n",
       "      <td>0.017425</td>\n",
       "      <td>0.016750</td>\n",
       "      <td>0.002267</td>\n",
       "    </tr>\n",
       "    <tr>\n",
       "      <th>2022-12-27 00:00:00+00:00</th>\n",
       "      <td>-0.013878</td>\n",
       "      <td>-0.025924</td>\n",
       "      <td>-0.020621</td>\n",
       "      <td>-0.007414</td>\n",
       "    </tr>\n",
       "    <tr>\n",
       "      <th>2022-12-28 00:00:00+00:00</th>\n",
       "      <td>-0.030685</td>\n",
       "      <td>-0.014692</td>\n",
       "      <td>-0.015677</td>\n",
       "      <td>-0.010255</td>\n",
       "    </tr>\n",
       "    <tr>\n",
       "      <th>2022-12-29 00:00:00+00:00</th>\n",
       "      <td>0.028324</td>\n",
       "      <td>0.028844</td>\n",
       "      <td>0.028249</td>\n",
       "      <td>0.027630</td>\n",
       "    </tr>\n",
       "    <tr>\n",
       "      <th>2022-12-30 00:00:00+00:00</th>\n",
       "      <td>0.002469</td>\n",
       "      <td>-0.002138</td>\n",
       "      <td>-0.002487</td>\n",
       "      <td>-0.004937</td>\n",
       "    </tr>\n",
       "  </tbody>\n",
       "</table>\n",
       "<p>755 rows × 4 columns</p>\n",
       "</div>"
      ],
      "text/plain": [
       "Ticker                         AAPL      AMZN     GOOGL      MSFT\n",
       "Date                                                             \n",
       "2020-01-03 00:00:00+00:00 -0.009722 -0.012139 -0.005231 -0.012452\n",
       "2020-01-06 00:00:00+00:00  0.007969  0.014886  0.026654  0.002585\n",
       "2020-01-07 00:00:00+00:00 -0.004703  0.002092 -0.001931 -0.009118\n",
       "2020-01-08 00:00:00+00:00  0.016086 -0.007809  0.007118  0.015929\n",
       "2020-01-09 00:00:00+00:00  0.021241  0.004799  0.010498  0.012493\n",
       "...                             ...       ...       ...       ...\n",
       "2022-12-23 00:00:00+00:00 -0.002798  0.017425  0.016750  0.002267\n",
       "2022-12-27 00:00:00+00:00 -0.013878 -0.025924 -0.020621 -0.007414\n",
       "2022-12-28 00:00:00+00:00 -0.030685 -0.014692 -0.015677 -0.010255\n",
       "2022-12-29 00:00:00+00:00  0.028324  0.028844  0.028249  0.027630\n",
       "2022-12-30 00:00:00+00:00  0.002469 -0.002138 -0.002487 -0.004937\n",
       "\n",
       "[755 rows x 4 columns]"
      ]
     },
     "execution_count": 5,
     "metadata": {},
     "output_type": "execute_result"
    }
   ],
   "source": [
    "returns"
   ]
  },
  {
   "cell_type": "code",
   "execution_count": 6,
   "metadata": {},
   "outputs": [],
   "source": [
    "# Calculate expected returns (mean daily returns)\n",
    "expected_returns = returns.mean()\n",
    "\n",
    "# Calculate covariance matrix of returns\n",
    "cov_matrix = returns.cov()"
   ]
  },
  {
   "cell_type": "code",
   "execution_count": 7,
   "metadata": {},
   "outputs": [
    {
     "data": {
      "text/plain": [
       "Ticker\n",
       "AAPL     0.001024\n",
       "AMZN     0.000141\n",
       "GOOGL    0.000573\n",
       "MSFT     0.000808\n",
       "dtype: float64"
      ]
     },
     "execution_count": 7,
     "metadata": {},
     "output_type": "execute_result"
    }
   ],
   "source": [
    "expected_returns"
   ]
  },
  {
   "cell_type": "code",
   "execution_count": 8,
   "metadata": {},
   "outputs": [
    {
     "data": {
      "text/html": [
       "<div>\n",
       "<style scoped>\n",
       "    .dataframe tbody tr th:only-of-type {\n",
       "        vertical-align: middle;\n",
       "    }\n",
       "\n",
       "    .dataframe tbody tr th {\n",
       "        vertical-align: top;\n",
       "    }\n",
       "\n",
       "    .dataframe thead th {\n",
       "        text-align: right;\n",
       "    }\n",
       "</style>\n",
       "<table border=\"1\" class=\"dataframe\">\n",
       "  <thead>\n",
       "    <tr style=\"text-align: right;\">\n",
       "      <th>Ticker</th>\n",
       "      <th>AAPL</th>\n",
       "      <th>AMZN</th>\n",
       "      <th>GOOGL</th>\n",
       "      <th>MSFT</th>\n",
       "    </tr>\n",
       "    <tr>\n",
       "      <th>Ticker</th>\n",
       "      <th></th>\n",
       "      <th></th>\n",
       "      <th></th>\n",
       "      <th></th>\n",
       "    </tr>\n",
       "  </thead>\n",
       "  <tbody>\n",
       "    <tr>\n",
       "      <th>AAPL</th>\n",
       "      <td>0.000541</td>\n",
       "      <td>0.000380</td>\n",
       "      <td>0.000370</td>\n",
       "      <td>0.000413</td>\n",
       "    </tr>\n",
       "    <tr>\n",
       "      <th>AMZN</th>\n",
       "      <td>0.000380</td>\n",
       "      <td>0.000606</td>\n",
       "      <td>0.000364</td>\n",
       "      <td>0.000378</td>\n",
       "    </tr>\n",
       "    <tr>\n",
       "      <th>GOOGL</th>\n",
       "      <td>0.000370</td>\n",
       "      <td>0.000364</td>\n",
       "      <td>0.000473</td>\n",
       "      <td>0.000395</td>\n",
       "    </tr>\n",
       "    <tr>\n",
       "      <th>MSFT</th>\n",
       "      <td>0.000413</td>\n",
       "      <td>0.000378</td>\n",
       "      <td>0.000395</td>\n",
       "      <td>0.000479</td>\n",
       "    </tr>\n",
       "  </tbody>\n",
       "</table>\n",
       "</div>"
      ],
      "text/plain": [
       "Ticker      AAPL      AMZN     GOOGL      MSFT\n",
       "Ticker                                        \n",
       "AAPL    0.000541  0.000380  0.000370  0.000413\n",
       "AMZN    0.000380  0.000606  0.000364  0.000378\n",
       "GOOGL   0.000370  0.000364  0.000473  0.000395\n",
       "MSFT    0.000413  0.000378  0.000395  0.000479"
      ]
     },
     "execution_count": 8,
     "metadata": {},
     "output_type": "execute_result"
    }
   ],
   "source": [
    "cov_matrix"
   ]
  },
  {
   "cell_type": "code",
   "execution_count": 9,
   "metadata": {},
   "outputs": [],
   "source": [
    "import numpy as np\n",
    "\n",
    "# Risk-free rate assumption\n",
    "risk_free_rate = 0.05\n",
    "\n",
    "# Portfolio performance functions\n",
    "def portfolio_performance(weights, expected_returns, cov_matrix):\n",
    "    # Portfolio return\n",
    "    portfolio_return = np.sum(weights * expected_returns) * 252  # Annualized\n",
    "    # Portfolio volatility\n",
    "    portfolio_volatility = np.sqrt(np.dot(weights.T, np.dot(cov_matrix * 252, weights)))  # Annualized\n",
    "    return portfolio_return, portfolio_volatility\n",
    "\n",
    "def sharpe_ratio(weights, expected_returns, cov_matrix, risk_free_rate):\n",
    "    p_return, p_volatility = portfolio_performance(weights, expected_returns, cov_matrix)\n",
    "    return (p_return - risk_free_rate) / p_volatility"
   ]
  },
  {
   "cell_type": "code",
   "execution_count": null,
   "metadata": {},
   "outputs": [],
   "source": [
    "# Maximizing the sharpe ratio using sequential least square quadratic programming\n",
    "from scipy.optimize import minimize\n",
    "\n",
    "# Constraint: Sum of weights = 1, equality constraints\n",
    "constraints = ({'type': 'eq', 'fun': lambda x: np.sum(x) - 1})\n",
    "\n",
    "# Bounds: Weight of each asset is between 0 and 1\n",
    "bounds = tuple((0, 1) for asset in range(len(tickers)))\n",
    "\n",
    "# Initial guess (equal weight for each asset that is 0.25\n",
    "initial_weights = 4 * [1. / 4]\n",
    "\n",
    "# Optimization to maximize Sharpe ratio\n",
    "optimized_result = minimize(lambda w: -sharpe_ratio(w, expected_returns, cov_matrix, risk_free_rate),\n",
    "                            initial_weights, method='SLSQP', bounds=bounds, constraints=constraints)\n",
    "\n",
    "\n",
    "optimal_weights = optimized_result.x"
   ]
  },
  {
   "cell_type": "code",
   "execution_count": 17,
   "metadata": {},
   "outputs": [
    {
     "data": {
      "text/plain": [
       "<matplotlib.legend.Legend at 0x789d28c90da0>"
      ]
     },
     "execution_count": 17,
     "metadata": {},
     "output_type": "execute_result"
    },
    {
     "data": {
      "image/png": "[encoded data removed]",
      "text/plain": [
       "<Figure size 640x480 with 2 Axes>"
      ]
     },
     "metadata": {},
     "output_type": "display_data"
    }
   ],
   "source": [
    "# plotting the market portfolio \n",
    "import matplotlib.pyplot as plt\n",
    "\n",
    "def efficient_frontier(expected_returns, cov_matrix, num_portfolios=1000):\n",
    "    results = np.zeros((3, num_portfolios))  # To store returns, volatility, Sharpe ratio\n",
    "    weights_array = []\n",
    "\n",
    "    for i in range(num_portfolios):\n",
    "        # Randomly generate portfolio weights\n",
    "        weights = np.random.random(len(tickers))\n",
    "        weights = weights/np.sum(weights)\n",
    "        weights_array.append(weights)\n",
    "\n",
    "        portfolio_return, portfolio_volatility = portfolio_performance(weights, expected_returns, cov_matrix)\n",
    "        results[0, i] = portfolio_volatility\n",
    "        results[1, i] = portfolio_return\n",
    "        results[2, i] = (portfolio_return - risk_free_rate) / portfolio_volatility  # Sharpe Ratio\n",
    "\n",
    "    return results, weights_array\n",
    "\n",
    "\n",
    "\n",
    "optimal_return, optimal_volatility = portfolio_performance(optimal_weights, expected_returns, cov_matrix)\n",
    "optimal_sharpe_ratio = (optimal_return - risk_free_rate) / optimal_volatility\n",
    "\n",
    "    \n",
    "# Define the Capital Market Line (CML)\n",
    "def cml(x):\n",
    "    return risk_free_rate + ((optimal_return - risk_free_rate) / optimal_volatility) * x\n",
    "    \n",
    "# Volatility range for plotting\n",
    "volatilities = np.linspace(0, 0.5, 100)\n",
    "cml_returns = cml(volatilities)\n",
    "\n",
    "# Generate portfolios and plot\n",
    "results, _ = efficient_frontier(expected_returns, cov_matrix)\n",
    "plt.scatter(optimal_volatility, optimal_return, color='red', marker='*', s=200, label=f'Market Portfolio')\n",
    "\n",
    "plt.scatter(results[0, :], results[1, :], c=results[2, :], cmap='viridis')\n",
    "plt.colorbar(label='Sharpe Ratio')\n",
    "plt.xlabel('Volatility')\n",
    "plt.ylabel('Return')\n",
    "plt.title('Efficient Frontier')\n",
    "plt.plot(volatilities, cml_returns, color='blue',label='Capital MArket line')\n",
    "plt.legend()\n",
    "\n"
   ]
  },
  {
   "cell_type": "code",
   "execution_count": null,
   "metadata": {},
   "outputs": [],
   "source": []
  },
  {
   "cell_type": "code",
   "execution_count": null,
   "metadata": {},
   "outputs": [],
   "source": []
  }
 ],
 "metadata": {
  "kernelspec": {
   "display_name": "Python 3",
   "language": "python",
   "name": "python3"
  },
  "language_info": {
   "codemirror_mode": {
    "name": "ipython",
    "version": 3
   },
   "file_extension": ".py",
   "mimetype": "text/x-python",
   "name": "python",
   "nbconvert_exporter": "python",
   "pygments_lexer": "ipython3",
   "version": "3.12.1"
  }
 },
 "nbformat": 4,
 "nbformat_minor": 2
}
