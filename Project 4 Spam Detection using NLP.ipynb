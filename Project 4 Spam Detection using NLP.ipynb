{
 "cells": [
  {
   "cell_type": "code",
   "execution_count": 72,
   "id": "8991c2a4",
   "metadata": {},
   "outputs": [
    {
     "data": {
      "text/plain": [
       "\"ham\\tI've been searching for the right words to thank you for this breather. I promise i wont take your help for granted and will fulfil my promise. You have been wonderful and a blessing at all times.\\nspam\\tFree entry in 2 a wkly comp to win FA Cup final tkts 21st May 2005. Text FA to 87121 to receive entry question(std txt rate)T&C's apply 08452810075over18's\\nham\\tNah I don't think he goes to usf, he lives around here though\\nham\\tEven my brother is not like to speak with me. They treat me like aid\""
      ]
     },
     "execution_count": 72,
     "metadata": {},
     "output_type": "execute_result"
    }
   ],
   "source": [
    "#Code to Read and Preview SMS Spam Collection Data \n",
    "name=r\"C:\\Users\\istm\\OneDrive - Ramboll\\Desktop\\ISHANT\\Computer science\\quant\\linkedin#\\NLL\\Ex_Files_NLP_Python_ML_EssT\\Ex_Files_NLP_Python_ML_EssT\\Exercise Files\\Ch01\\01_03\\Start\\SMSSpamCollection.tsv\"\n",
    "rawdata=open(name).read()\n",
    "rawdata[0:500]"
   ]
  },
  {
   "cell_type": "code",
   "execution_count": 54,
   "id": "8ff62147",
   "metadata": {},
   "outputs": [],
   "source": [
    "#Loading and Preparing SMS Spam Collection Data for NLP Processing\n",
    "import pandas as pd\n",
    "import re\n",
    "import string\n",
    "import nltk\n",
    "pd.set_option('display.max_colwidth', 100)\n",
    "\n",
    "stopwords = nltk.corpus.stopwords.words('english')\n",
    "ps = nltk.PorterStemmer()\n",
    "\n",
    "data = pd.read_csv(name, sep='\\t')\n",
    "data = pd.read_csv(name, sep='\\t')\n",
    "data.columns = ['label', 'body_text']"
   ]
  },
  {
   "cell_type": "code",
   "execution_count": 55,
   "id": "4ce41330",
   "metadata": {},
   "outputs": [
    {
     "data": {
      "text/html": [
       "<div>\n",
       "<style scoped>\n",
       "    .dataframe tbody tr th:only-of-type {\n",
       "        vertical-align: middle;\n",
       "    }\n",
       "\n",
       "    .dataframe tbody tr th {\n",
       "        vertical-align: top;\n",
       "    }\n",
       "\n",
       "    .dataframe thead th {\n",
       "        text-align: right;\n",
       "    }\n",
       "</style>\n",
       "<table border=\"1\" class=\"dataframe\">\n",
       "  <thead>\n",
       "    <tr style=\"text-align: right;\">\n",
       "      <th></th>\n",
       "      <th>label</th>\n",
       "      <th>body_text</th>\n",
       "    </tr>\n",
       "  </thead>\n",
       "  <tbody>\n",
       "    <tr>\n",
       "      <th>0</th>\n",
       "      <td>spam</td>\n",
       "      <td>Free entry in 2 a wkly comp to win FA Cup final tkts 21st May 2005. Text FA to 87121 to receive ...</td>\n",
       "    </tr>\n",
       "    <tr>\n",
       "      <th>1</th>\n",
       "      <td>ham</td>\n",
       "      <td>Nah I don't think he goes to usf, he lives around here though</td>\n",
       "    </tr>\n",
       "    <tr>\n",
       "      <th>2</th>\n",
       "      <td>ham</td>\n",
       "      <td>Even my brother is not like to speak with me. They treat me like aids patent.</td>\n",
       "    </tr>\n",
       "    <tr>\n",
       "      <th>3</th>\n",
       "      <td>ham</td>\n",
       "      <td>I HAVE A DATE ON SUNDAY WITH WILL!!</td>\n",
       "    </tr>\n",
       "    <tr>\n",
       "      <th>4</th>\n",
       "      <td>ham</td>\n",
       "      <td>As per your request 'Melle Melle (Oru Minnaminunginte Nurungu Vettam)' has been set as your call...</td>\n",
       "    </tr>\n",
       "  </tbody>\n",
       "</table>\n",
       "</div>"
      ],
      "text/plain": [
       "  label  \\\n",
       "0  spam   \n",
       "1   ham   \n",
       "2   ham   \n",
       "3   ham   \n",
       "4   ham   \n",
       "\n",
       "                                                                                             body_text  \n",
       "0  Free entry in 2 a wkly comp to win FA Cup final tkts 21st May 2005. Text FA to 87121 to receive ...  \n",
       "1                                        Nah I don't think he goes to usf, he lives around here though  \n",
       "2                        Even my brother is not like to speak with me. They treat me like aids patent.  \n",
       "3                                                                  I HAVE A DATE ON SUNDAY WITH WILL!!  \n",
       "4  As per your request 'Melle Melle (Oru Minnaminunginte Nurungu Vettam)' has been set as your call...  "
      ]
     },
     "execution_count": 55,
     "metadata": {},
     "output_type": "execute_result"
    }
   ],
   "source": [
    "data.head()"
   ]
  },
  {
   "cell_type": "code",
   "execution_count": 56,
   "id": "80613365",
   "metadata": {},
   "outputs": [],
   "source": [
    "#Text Cleaning Function for NLP Preprocessing\n",
    "def clean_text(text):\n",
    "    text = \"\".join([word.lower() for word in text if word not in string.punctuation])\n",
    "    tokens = re.split('\\W+', text)\n",
    "    text = [ps.stem(word) for word in tokens if word not in stopwords] # same as count vector unlike n gram vector.\n",
    "    return text"
   ]
  },
  {
   "cell_type": "code",
   "execution_count": 59,
   "id": "9a882a39",
   "metadata": {},
   "outputs": [
    {
     "data": {
      "text/html": [
       "<div>\n",
       "<style scoped>\n",
       "    .dataframe tbody tr th:only-of-type {\n",
       "        vertical-align: middle;\n",
       "    }\n",
       "\n",
       "    .dataframe tbody tr th {\n",
       "        vertical-align: top;\n",
       "    }\n",
       "\n",
       "    .dataframe thead th {\n",
       "        text-align: right;\n",
       "    }\n",
       "</style>\n",
       "<table border=\"1\" class=\"dataframe\">\n",
       "  <thead>\n",
       "    <tr style=\"text-align: right;\">\n",
       "      <th></th>\n",
       "      <th>label</th>\n",
       "      <th>body_text</th>\n",
       "      <th>body_len</th>\n",
       "    </tr>\n",
       "  </thead>\n",
       "  <tbody>\n",
       "    <tr>\n",
       "      <th>0</th>\n",
       "      <td>spam</td>\n",
       "      <td>Free entry in 2 a wkly comp to win FA Cup final tkts 21st May 2005. Text FA to 87121 to receive ...</td>\n",
       "      <td>128</td>\n",
       "    </tr>\n",
       "    <tr>\n",
       "      <th>1</th>\n",
       "      <td>ham</td>\n",
       "      <td>Nah I don't think he goes to usf, he lives around here though</td>\n",
       "      <td>49</td>\n",
       "    </tr>\n",
       "    <tr>\n",
       "      <th>2</th>\n",
       "      <td>ham</td>\n",
       "      <td>Even my brother is not like to speak with me. They treat me like aids patent.</td>\n",
       "      <td>62</td>\n",
       "    </tr>\n",
       "    <tr>\n",
       "      <th>3</th>\n",
       "      <td>ham</td>\n",
       "      <td>I HAVE A DATE ON SUNDAY WITH WILL!!</td>\n",
       "      <td>28</td>\n",
       "    </tr>\n",
       "    <tr>\n",
       "      <th>4</th>\n",
       "      <td>ham</td>\n",
       "      <td>As per your request 'Melle Melle (Oru Minnaminunginte Nurungu Vettam)' has been set as your call...</td>\n",
       "      <td>135</td>\n",
       "    </tr>\n",
       "  </tbody>\n",
       "</table>\n",
       "</div>"
      ],
      "text/plain": [
       "  label  \\\n",
       "0  spam   \n",
       "1   ham   \n",
       "2   ham   \n",
       "3   ham   \n",
       "4   ham   \n",
       "\n",
       "                                                                                             body_text  \\\n",
       "0  Free entry in 2 a wkly comp to win FA Cup final tkts 21st May 2005. Text FA to 87121 to receive ...   \n",
       "1                                        Nah I don't think he goes to usf, he lives around here though   \n",
       "2                        Even my brother is not like to speak with me. They treat me like aids patent.   \n",
       "3                                                                  I HAVE A DATE ON SUNDAY WITH WILL!!   \n",
       "4  As per your request 'Melle Melle (Oru Minnaminunginte Nurungu Vettam)' has been set as your call...   \n",
       "\n",
       "   body_len  \n",
       "0       128  \n",
       "1        49  \n",
       "2        62  \n",
       "3        28  \n",
       "4       135  "
      ]
     },
     "execution_count": 59,
     "metadata": {},
     "output_type": "execute_result"
    }
   ],
   "source": [
    "# Creating Feature number 1 that is Text Lengths for SMS Spam Detection\n",
    "data['body_len']=data['body_text'].apply(lambda x:len(x)-x.count(\" \") ) # remove white spces\n",
    "data.head()"
   ]
  },
  {
   "cell_type": "code",
   "execution_count": 60,
   "id": "e01a20a8",
   "metadata": {},
   "outputs": [
    {
     "data": {
      "text/html": [
       "<div>\n",
       "<style scoped>\n",
       "    .dataframe tbody tr th:only-of-type {\n",
       "        vertical-align: middle;\n",
       "    }\n",
       "\n",
       "    .dataframe tbody tr th {\n",
       "        vertical-align: top;\n",
       "    }\n",
       "\n",
       "    .dataframe thead th {\n",
       "        text-align: right;\n",
       "    }\n",
       "</style>\n",
       "<table border=\"1\" class=\"dataframe\">\n",
       "  <thead>\n",
       "    <tr style=\"text-align: right;\">\n",
       "      <th></th>\n",
       "      <th>label</th>\n",
       "      <th>body_text</th>\n",
       "      <th>body_len</th>\n",
       "      <th>punct %</th>\n",
       "    </tr>\n",
       "  </thead>\n",
       "  <tbody>\n",
       "    <tr>\n",
       "      <th>0</th>\n",
       "      <td>spam</td>\n",
       "      <td>Free entry in 2 a wkly comp to win FA Cup final tkts 21st May 2005. Text FA to 87121 to receive ...</td>\n",
       "      <td>128</td>\n",
       "      <td>4.7</td>\n",
       "    </tr>\n",
       "    <tr>\n",
       "      <th>1</th>\n",
       "      <td>ham</td>\n",
       "      <td>Nah I don't think he goes to usf, he lives around here though</td>\n",
       "      <td>49</td>\n",
       "      <td>4.1</td>\n",
       "    </tr>\n",
       "    <tr>\n",
       "      <th>2</th>\n",
       "      <td>ham</td>\n",
       "      <td>Even my brother is not like to speak with me. They treat me like aids patent.</td>\n",
       "      <td>62</td>\n",
       "      <td>3.2</td>\n",
       "    </tr>\n",
       "    <tr>\n",
       "      <th>3</th>\n",
       "      <td>ham</td>\n",
       "      <td>I HAVE A DATE ON SUNDAY WITH WILL!!</td>\n",
       "      <td>28</td>\n",
       "      <td>7.1</td>\n",
       "    </tr>\n",
       "    <tr>\n",
       "      <th>4</th>\n",
       "      <td>ham</td>\n",
       "      <td>As per your request 'Melle Melle (Oru Minnaminunginte Nurungu Vettam)' has been set as your call...</td>\n",
       "      <td>135</td>\n",
       "      <td>4.4</td>\n",
       "    </tr>\n",
       "  </tbody>\n",
       "</table>\n",
       "</div>"
      ],
      "text/plain": [
       "  label  \\\n",
       "0  spam   \n",
       "1   ham   \n",
       "2   ham   \n",
       "3   ham   \n",
       "4   ham   \n",
       "\n",
       "                                                                                             body_text  \\\n",
       "0  Free entry in 2 a wkly comp to win FA Cup final tkts 21st May 2005. Text FA to 87121 to receive ...   \n",
       "1                                        Nah I don't think he goes to usf, he lives around here though   \n",
       "2                        Even my brother is not like to speak with me. They treat me like aids patent.   \n",
       "3                                                                  I HAVE A DATE ON SUNDAY WITH WILL!!   \n",
       "4  As per your request 'Melle Melle (Oru Minnaminunginte Nurungu Vettam)' has been set as your call...   \n",
       "\n",
       "   body_len  punct %  \n",
       "0       128      4.7  \n",
       "1        49      4.1  \n",
       "2        62      3.2  \n",
       "3        28      7.1  \n",
       "4       135      4.4  "
      ]
     },
     "execution_count": 60,
     "metadata": {},
     "output_type": "execute_result"
    }
   ],
   "source": [
    "# Creating Feature number 2 that is number of punctuations for SMS Spam Detection\n",
    "import string \n",
    "def count_punct(text):\n",
    "    count=sum([1 for char in text if char in string.punctuation])\n",
    "    # returning 1 if the char is punct there for using (in) not (not in) \n",
    "    return round(count/(len(text)-text.count(\" \")),3)*100\n",
    "    \n",
    "data['punct %']=data['body_text'].apply(lambda x:count_punct(x))\n",
    "data.head()\n"
   ]
  },
  {
   "cell_type": "code",
   "execution_count": 61,
   "id": "2a1d2c31",
   "metadata": {},
   "outputs": [
    {
     "data": {
      "image/png": "[encoded data removed]",
      "text/plain": [
       "<Figure size 432x288 with 1 Axes>"
      ]
     },
     "metadata": {
      "needs_background": "light"
     },
     "output_type": "display_data"
    }
   ],
   "source": [
    "#Visualizing SMS Length Distribution for Spam vs. Ham Messages\n",
    "from matplotlib import pyplot\n",
    "import numpy as np\n",
    "bins=np.linspace(0,200,40) \n",
    "pyplot.hist(data[data['label']=='spam']['body_len'],bins,alpha=0.5,density = True,label='spam') \n",
    "#ham histo will dwarf the spam one if we not normalize as one is alot more in number compared to other \n",
    "pyplot.hist(data[data['label']=='ham']['body_len'],bins,alpha=0.5,density = True,label='ham')\n",
    "pyplot.legend(loc='upper left')\n",
    "pyplot.show() # spam appeared to be longer than regular text messages\n"
   ]
  },
  {
   "cell_type": "code",
   "execution_count": 62,
   "id": "c41043e8",
   "metadata": {},
   "outputs": [
    {
     "data": {
      "image/png": "[encoded data removed]",
      "text/plain": [
       "<Figure size 432x288 with 1 Axes>"
      ]
     },
     "metadata": {
      "needs_background": "light"
     },
     "output_type": "display_data"
    }
   ],
   "source": [
    "#Visualizing Percentage punctuation Distribution for Spam vs. Ham Messages\n",
    "bins=np.linspace(0,50,40) \n",
    "pyplot.hist(data[data['label']=='spam']['punct %'],bins,alpha=0.5,density = True,label='spam') \n",
    "#ham histo will dwarf the spam one if we not normalize as one is alot more in number compared to other \n",
    "pyplot.hist(data[data['label']=='ham']['punct %'],bins,alpha=0.5,density = True,label='ham')\n",
    "pyplot.legend(loc='upper right')\n",
    "pyplot.show() # spam appeared to be longer than regular text messages"
   ]
  },
  {
   "cell_type": "code",
   "execution_count": 63,
   "id": "773d782a",
   "metadata": {},
   "outputs": [
    {
     "data": {
      "text/html": [
       "<div>\n",
       "<style scoped>\n",
       "    .dataframe tbody tr th:only-of-type {\n",
       "        vertical-align: middle;\n",
       "    }\n",
       "\n",
       "    .dataframe tbody tr th {\n",
       "        vertical-align: top;\n",
       "    }\n",
       "\n",
       "    .dataframe thead th {\n",
       "        text-align: right;\n",
       "    }\n",
       "</style>\n",
       "<table border=\"1\" class=\"dataframe\">\n",
       "  <thead>\n",
       "    <tr style=\"text-align: right;\">\n",
       "      <th></th>\n",
       "      <th>body_len</th>\n",
       "      <th>punct %</th>\n",
       "      <th>0</th>\n",
       "      <th>1</th>\n",
       "      <th>2</th>\n",
       "      <th>3</th>\n",
       "      <th>4</th>\n",
       "      <th>5</th>\n",
       "      <th>6</th>\n",
       "      <th>7</th>\n",
       "      <th>...</th>\n",
       "      <th>8094</th>\n",
       "      <th>8095</th>\n",
       "      <th>8096</th>\n",
       "      <th>8097</th>\n",
       "      <th>8098</th>\n",
       "      <th>8099</th>\n",
       "      <th>8100</th>\n",
       "      <th>8101</th>\n",
       "      <th>8102</th>\n",
       "      <th>8103</th>\n",
       "    </tr>\n",
       "  </thead>\n",
       "  <tbody>\n",
       "    <tr>\n",
       "      <th>0</th>\n",
       "      <td>128</td>\n",
       "      <td>4.7</td>\n",
       "      <td>0.0</td>\n",
       "      <td>0.0</td>\n",
       "      <td>0.0</td>\n",
       "      <td>0.0</td>\n",
       "      <td>0.0</td>\n",
       "      <td>0.0</td>\n",
       "      <td>0.0</td>\n",
       "      <td>0.0</td>\n",
       "      <td>...</td>\n",
       "      <td>0.0</td>\n",
       "      <td>0.0</td>\n",
       "      <td>0.0</td>\n",
       "      <td>0.0</td>\n",
       "      <td>0.0</td>\n",
       "      <td>0.0</td>\n",
       "      <td>0.0</td>\n",
       "      <td>0.0</td>\n",
       "      <td>0.0</td>\n",
       "      <td>0.0</td>\n",
       "    </tr>\n",
       "    <tr>\n",
       "      <th>1</th>\n",
       "      <td>49</td>\n",
       "      <td>4.1</td>\n",
       "      <td>0.0</td>\n",
       "      <td>0.0</td>\n",
       "      <td>0.0</td>\n",
       "      <td>0.0</td>\n",
       "      <td>0.0</td>\n",
       "      <td>0.0</td>\n",
       "      <td>0.0</td>\n",
       "      <td>0.0</td>\n",
       "      <td>...</td>\n",
       "      <td>0.0</td>\n",
       "      <td>0.0</td>\n",
       "      <td>0.0</td>\n",
       "      <td>0.0</td>\n",
       "      <td>0.0</td>\n",
       "      <td>0.0</td>\n",
       "      <td>0.0</td>\n",
       "      <td>0.0</td>\n",
       "      <td>0.0</td>\n",
       "      <td>0.0</td>\n",
       "    </tr>\n",
       "    <tr>\n",
       "      <th>2</th>\n",
       "      <td>62</td>\n",
       "      <td>3.2</td>\n",
       "      <td>0.0</td>\n",
       "      <td>0.0</td>\n",
       "      <td>0.0</td>\n",
       "      <td>0.0</td>\n",
       "      <td>0.0</td>\n",
       "      <td>0.0</td>\n",
       "      <td>0.0</td>\n",
       "      <td>0.0</td>\n",
       "      <td>...</td>\n",
       "      <td>0.0</td>\n",
       "      <td>0.0</td>\n",
       "      <td>0.0</td>\n",
       "      <td>0.0</td>\n",
       "      <td>0.0</td>\n",
       "      <td>0.0</td>\n",
       "      <td>0.0</td>\n",
       "      <td>0.0</td>\n",
       "      <td>0.0</td>\n",
       "      <td>0.0</td>\n",
       "    </tr>\n",
       "    <tr>\n",
       "      <th>3</th>\n",
       "      <td>28</td>\n",
       "      <td>7.1</td>\n",
       "      <td>0.0</td>\n",
       "      <td>0.0</td>\n",
       "      <td>0.0</td>\n",
       "      <td>0.0</td>\n",
       "      <td>0.0</td>\n",
       "      <td>0.0</td>\n",
       "      <td>0.0</td>\n",
       "      <td>0.0</td>\n",
       "      <td>...</td>\n",
       "      <td>0.0</td>\n",
       "      <td>0.0</td>\n",
       "      <td>0.0</td>\n",
       "      <td>0.0</td>\n",
       "      <td>0.0</td>\n",
       "      <td>0.0</td>\n",
       "      <td>0.0</td>\n",
       "      <td>0.0</td>\n",
       "      <td>0.0</td>\n",
       "      <td>0.0</td>\n",
       "    </tr>\n",
       "    <tr>\n",
       "      <th>4</th>\n",
       "      <td>135</td>\n",
       "      <td>4.4</td>\n",
       "      <td>0.0</td>\n",
       "      <td>0.0</td>\n",
       "      <td>0.0</td>\n",
       "      <td>0.0</td>\n",
       "      <td>0.0</td>\n",
       "      <td>0.0</td>\n",
       "      <td>0.0</td>\n",
       "      <td>0.0</td>\n",
       "      <td>...</td>\n",
       "      <td>0.0</td>\n",
       "      <td>0.0</td>\n",
       "      <td>0.0</td>\n",
       "      <td>0.0</td>\n",
       "      <td>0.0</td>\n",
       "      <td>0.0</td>\n",
       "      <td>0.0</td>\n",
       "      <td>0.0</td>\n",
       "      <td>0.0</td>\n",
       "      <td>0.0</td>\n",
       "    </tr>\n",
       "  </tbody>\n",
       "</table>\n",
       "<p>5 rows × 8106 columns</p>\n",
       "</div>"
      ],
      "text/plain": [
       "   body_len  punct %    0    1    2    3    4    5    6    7  ...  8094  8095  \\\n",
       "0       128      4.7  0.0  0.0  0.0  0.0  0.0  0.0  0.0  0.0  ...   0.0   0.0   \n",
       "1        49      4.1  0.0  0.0  0.0  0.0  0.0  0.0  0.0  0.0  ...   0.0   0.0   \n",
       "2        62      3.2  0.0  0.0  0.0  0.0  0.0  0.0  0.0  0.0  ...   0.0   0.0   \n",
       "3        28      7.1  0.0  0.0  0.0  0.0  0.0  0.0  0.0  0.0  ...   0.0   0.0   \n",
       "4       135      4.4  0.0  0.0  0.0  0.0  0.0  0.0  0.0  0.0  ...   0.0   0.0   \n",
       "\n",
       "   8096  8097  8098  8099  8100  8101  8102  8103  \n",
       "0   0.0   0.0   0.0   0.0   0.0   0.0   0.0   0.0  \n",
       "1   0.0   0.0   0.0   0.0   0.0   0.0   0.0   0.0  \n",
       "2   0.0   0.0   0.0   0.0   0.0   0.0   0.0   0.0  \n",
       "3   0.0   0.0   0.0   0.0   0.0   0.0   0.0   0.0  \n",
       "4   0.0   0.0   0.0   0.0   0.0   0.0   0.0   0.0  \n",
       "\n",
       "[5 rows x 8106 columns]"
      ]
     },
     "execution_count": 63,
     "metadata": {},
     "output_type": "execute_result"
    }
   ],
   "source": [
    "#Creating TF-IDF Features and Combining with Text Attributes for the whole dataset for Grid Search purpose\n",
    "import nltk\n",
    "import pandas as pd\n",
    "import re\n",
    "from sklearn.feature_extraction.text import TfidfVectorizer\n",
    "import string\n",
    "\n",
    "tfidf_vect = TfidfVectorizer(analyzer=clean_text) # weight of the words\n",
    "X_tfidf = tfidf_vect.fit_transform(data['body_text'])\n",
    "\n",
    "X_features = pd.concat([data['body_len'], data['punct %'], pd.DataFrame(X_tfidf.toarray())], axis=1)\n",
    "X_features.head() "
   ]
  },
  {
   "cell_type": "code",
   "execution_count": 73,
   "id": "5196b706",
   "metadata": {},
   "outputs": [],
   "source": [
    "from sklearn.metrics import precision_recall_fscore_support as score\n",
    "from sklearn.model_selection import train_test_split"
   ]
  },
  {
   "cell_type": "code",
   "execution_count": 66,
   "id": "9a46c9b3",
   "metadata": {},
   "outputs": [],
   "source": [
    "#Splitting Data into Training and Testing Sets\n",
    "X_train,X_test,y_train,y_test=train_test_split(X_features,data['label'],test_size=0.2)"
   ]
  },
  {
   "cell_type": "code",
   "execution_count": 67,
   "id": "e77ef2bc",
   "metadata": {},
   "outputs": [],
   "source": [
    "#Training a Random Forest Classifier and Evaluating Performance\n",
    "def train_RF(n_est,depth):\n",
    "    rf=RandomForestClassifier(n_estimators=n_est,max_depth=depth,n_jobs=-1)\n",
    "    rf_model=rf.fit(X_train,y_train)\n",
    "    y_pred=rf_model.predict(X_test)\n",
    "    precision,recall,fscore,support=score(y_test,y_pred,pos_label='spam',average='binary')\n",
    "    print('Est:{}/Depth{}---Precisooon: {} / Recall:{} /Accuracy: {}'.format(n_est,depth,round(precision,3),round(recall,3),\n",
    "                                                                            round(y_pred==y_test).sum()/len(y_pred)))"
   ]
  },
  {
   "cell_type": "code",
   "execution_count": 71,
   "id": "e29f98a6",
   "metadata": {},
   "outputs": [
    {
     "name": "stdout",
     "output_type": "stream",
     "text": [
      "Est:50/Depth10---Precisooon: 1.0 / Recall:0.241 /Accuracy: 0.8922800718132855\n",
      "Est:50/Depth20---Precisooon: 1.0 / Recall:0.582 /Accuracy: 0.940754039497307\n",
      "Est:50/Depth30---Precisooon: 1.0 / Recall:0.734 /Accuracy: 0.9622980251346499\n",
      "Est:50/DepthNone---Precisooon: 1.0 / Recall:0.835 /Accuracy: 0.9766606822262118\n",
      "Est:100/Depth10---Precisooon: 1.0 / Recall:0.215 /Accuracy: 0.8886894075403949\n",
      "Est:100/Depth20---Precisooon: 1.0 / Recall:0.614 /Accuracy: 0.9452423698384201\n",
      "Est:100/Depth30---Precisooon: 1.0 / Recall:0.728 /Accuracy: 0.9614003590664273\n",
      "Est:100/DepthNone---Precisooon: 1.0 / Recall:0.823 /Accuracy: 0.9748653500897666\n",
      "Est:150/Depth10---Precisooon: 1.0 / Recall:0.228 /Accuracy: 0.8904847396768402\n",
      "Est:150/Depth20---Precisooon: 1.0 / Recall:0.601 /Accuracy: 0.9434470377019749\n",
      "Est:150/Depth30---Precisooon: 1.0 / Recall:0.722 /Accuracy: 0.9605026929982047\n",
      "Est:150/DepthNone---Precisooon: 1.0 / Recall:0.829 /Accuracy: 0.9757630161579892\n"
     ]
    }
   ],
   "source": [
    "# Performing manual Grid Search for Random Forest\n",
    "for n_est in [50,100,150]:\n",
    "    for depth in [10,20,30,None]:\n",
    "        train_RF(n_est,depth)"
   ]
  },
  {
   "cell_type": "code",
   "execution_count": 69,
   "id": "a942b7b4",
   "metadata": {},
   "outputs": [],
   "source": [
    "#Training a Gradient booster Classifier and Evaluating Performance\n",
    "def train_GB(est, max_depth, lr):\n",
    "    gb = GradientBoostingClassifier(n_estimators=est, max_depth=max_depth, learning_rate=lr)\n",
    "    gb_model = gb.fit(X_train, y_train)\n",
    "    y_pred = gb_model.predict(X_test)\n",
    "    precision, recall, fscore, train_support = score(y_test, y_pred, pos_label='spam', average='binary')\n",
    "    print('Est: {} / Depth: {} / LR: {} ---- Precision: {} / Recall: {} / Accuracy: {}'.format(\n",
    "        est, max_depth, lr, round(precision, 3), round(recall, 3), \n",
    "        round((y_pred==y_test).sum()/len(y_pred), 3)))"
   ]
  },
  {
   "cell_type": "code",
   "execution_count": 70,
   "id": "302537ea",
   "metadata": {},
   "outputs": [
    {
     "name": "stderr",
     "output_type": "stream",
     "text": [
      "C:\\ProgramData\\Miniconda3\\envs\\Python36\\lib\\site-packages\\sklearn\\metrics\\_classification.py:1248: UndefinedMetricWarning: Precision and F-score are ill-defined and being set to 0.0 due to no predicted samples. Use `zero_division` parameter to control this behavior.\n",
      "  _warn_prf(average, modifier, msg_start, len(result))\n"
     ]
    },
    {
     "name": "stdout",
     "output_type": "stream",
     "text": [
      "Est: 50 / Depth: 3 / LR: 0.01 ---- Precision: 0.0 / Recall: 0.0 / Accuracy: 0.858\n",
      "Est: 50 / Depth: 3 / LR: 0.1 ---- Precision: 0.957 / Recall: 0.703 / Accuracy: 0.953\n",
      "Est: 50 / Depth: 3 / LR: 1 ---- Precision: 0.908 / Recall: 0.816 / Accuracy: 0.962\n",
      "Est: 50 / Depth: 7 / LR: 0.01 ---- Precision: 1.0 / Recall: 0.006 / Accuracy: 0.859\n",
      "Est: 50 / Depth: 7 / LR: 0.1 ---- Precision: 0.941 / Recall: 0.81 / Accuracy: 0.966\n",
      "Est: 50 / Depth: 7 / LR: 1 ---- Precision: 0.928 / Recall: 0.81 / Accuracy: 0.964\n"
     ]
    },
    {
     "name": "stderr",
     "output_type": "stream",
     "text": [
      "C:\\ProgramData\\Miniconda3\\envs\\Python36\\lib\\site-packages\\sklearn\\metrics\\_classification.py:1248: UndefinedMetricWarning: Precision and F-score are ill-defined and being set to 0.0 due to no predicted samples. Use `zero_division` parameter to control this behavior.\n",
      "  _warn_prf(average, modifier, msg_start, len(result))\n"
     ]
    },
    {
     "name": "stdout",
     "output_type": "stream",
     "text": [
      "Est: 50 / Depth: 11 / LR: 0.01 ---- Precision: 0.0 / Recall: 0.0 / Accuracy: 0.858\n",
      "Est: 50 / Depth: 11 / LR: 0.1 ---- Precision: 0.929 / Recall: 0.823 / Accuracy: 0.966\n",
      "Est: 50 / Depth: 11 / LR: 1 ---- Precision: 0.922 / Recall: 0.823 / Accuracy: 0.965\n"
     ]
    },
    {
     "name": "stderr",
     "output_type": "stream",
     "text": [
      "C:\\ProgramData\\Miniconda3\\envs\\Python36\\lib\\site-packages\\sklearn\\metrics\\_classification.py:1248: UndefinedMetricWarning: Precision and F-score are ill-defined and being set to 0.0 due to no predicted samples. Use `zero_division` parameter to control this behavior.\n",
      "  _warn_prf(average, modifier, msg_start, len(result))\n"
     ]
    },
    {
     "name": "stdout",
     "output_type": "stream",
     "text": [
      "Est: 50 / Depth: 15 / LR: 0.01 ---- Precision: 0.0 / Recall: 0.0 / Accuracy: 0.858\n",
      "Est: 50 / Depth: 15 / LR: 0.1 ---- Precision: 0.934 / Recall: 0.81 / Accuracy: 0.965\n",
      "Est: 50 / Depth: 15 / LR: 1 ---- Precision: 0.942 / Recall: 0.829 / Accuracy: 0.969\n",
      "Est: 100 / Depth: 3 / LR: 0.01 ---- Precision: 0.952 / Recall: 0.506 / Accuracy: 0.926\n",
      "Est: 100 / Depth: 3 / LR: 0.1 ---- Precision: 0.969 / Recall: 0.778 / Accuracy: 0.965\n",
      "Est: 100 / Depth: 3 / LR: 1 ---- Precision: 0.909 / Recall: 0.823 / Accuracy: 0.963\n",
      "Est: 100 / Depth: 7 / LR: 0.01 ---- Precision: 0.945 / Recall: 0.652 / Accuracy: 0.945\n",
      "Est: 100 / Depth: 7 / LR: 0.1 ---- Precision: 0.957 / Recall: 0.848 / Accuracy: 0.973\n",
      "Est: 100 / Depth: 7 / LR: 1 ---- Precision: 0.956 / Recall: 0.829 / Accuracy: 0.97\n",
      "Est: 100 / Depth: 11 / LR: 0.01 ---- Precision: 0.936 / Recall: 0.741 / Accuracy: 0.956\n",
      "Est: 100 / Depth: 11 / LR: 0.1 ---- Precision: 0.943 / Recall: 0.842 / Accuracy: 0.97\n",
      "Est: 100 / Depth: 11 / LR: 1 ---- Precision: 0.978 / Recall: 0.829 / Accuracy: 0.973\n",
      "Est: 100 / Depth: 15 / LR: 0.01 ---- Precision: 0.925 / Recall: 0.778 / Accuracy: 0.96\n",
      "Est: 100 / Depth: 15 / LR: 0.1 ---- Precision: 0.937 / Recall: 0.842 / Accuracy: 0.969\n",
      "Est: 100 / Depth: 15 / LR: 1 ---- Precision: 0.957 / Recall: 0.848 / Accuracy: 0.973\n",
      "Est: 150 / Depth: 3 / LR: 0.01 ---- Precision: 0.942 / Recall: 0.513 / Accuracy: 0.926\n",
      "Est: 150 / Depth: 3 / LR: 0.1 ---- Precision: 0.97 / Recall: 0.81 / Accuracy: 0.969\n",
      "Est: 150 / Depth: 3 / LR: 1 ---- Precision: 0.948 / Recall: 0.81 / Accuracy: 0.967\n",
      "Est: 150 / Depth: 7 / LR: 0.01 ---- Precision: 0.948 / Recall: 0.696 / Accuracy: 0.952\n",
      "Est: 150 / Depth: 7 / LR: 0.1 ---- Precision: 0.95 / Recall: 0.848 / Accuracy: 0.972\n",
      "Est: 150 / Depth: 7 / LR: 1 ---- Precision: 0.963 / Recall: 0.829 / Accuracy: 0.971\n",
      "Est: 150 / Depth: 11 / LR: 0.01 ---- Precision: 0.925 / Recall: 0.785 / Accuracy: 0.961\n",
      "Est: 150 / Depth: 11 / LR: 0.1 ---- Precision: 0.938 / Recall: 0.867 / Accuracy: 0.973\n",
      "Est: 150 / Depth: 11 / LR: 1 ---- Precision: 0.97 / Recall: 0.829 / Accuracy: 0.972\n",
      "Est: 150 / Depth: 15 / LR: 0.01 ---- Precision: 0.928 / Recall: 0.81 / Accuracy: 0.964\n",
      "Est: 150 / Depth: 15 / LR: 0.1 ---- Precision: 0.932 / Recall: 0.867 / Accuracy: 0.972\n",
      "Est: 150 / Depth: 15 / LR: 1 ---- Precision: 0.971 / Recall: 0.835 / Accuracy: 0.973\n"
     ]
    }
   ],
   "source": [
    "# Performing manual Grid Search for Gradient booster\n",
    "for n_est in [50, 100, 150]:\n",
    "    for max_depth in [3, 7, 11, 15]:\n",
    "        for lr in [0.01, 0.1, 1]:\n",
    "            train_GB(n_est, max_depth, lr)"
   ]
  },
  {
   "cell_type": "code",
   "execution_count": null,
   "id": "10578959",
   "metadata": {},
   "outputs": [],
   "source": [
    "#Creating TF-IDF Features and Combining with Text Attributes for the training dataset.\n",
    "tfidf_vect = TfidfVectorizer(analyzer=clean_text)\n",
    "tfidf_vect_fit = tfidf_vect.fit(X_train['body_text']) \n",
    "\n",
    "tfidf_train = tfidf_vect_fit.transform(X_train['body_text'])\n",
    "tfidf_test = tfidf_vect_fit.transform(X_test['body_text']) \n",
    "\n",
    "X_train_vect = pd.concat([X_train[['body_len', 'punct%']].reset_index(drop=True),  \n",
    "           pd.DataFrame(tfidf_train.toarray())], axis=1) \n",
    "X_test_vect = pd.concat([X_test[['body_len', 'punct%']].reset_index(drop=True), \n",
    "           pd.DataFrame(tfidf_test.toarray())], axis=1) \n",
    "\n",
    "X_train_vect.head()"
   ]
  },
  {
   "cell_type": "code",
   "execution_count": 31,
   "id": "e7d66b0e",
   "metadata": {},
   "outputs": [],
   "source": [
    "from sklearn.ensemble import RandomForestClassifier, GradientBoostingClassifier\n",
    "from sklearn.metrics import precision_recall_fscore_support as score\n",
    "import time "
   ]
  },
  {
   "cell_type": "code",
   "execution_count": 32,
   "id": "c5870d6e",
   "metadata": {},
   "outputs": [
    {
     "name": "stdout",
     "output_type": "stream",
     "text": [
      "Fit time: 2.491 / Predict time: 0.235 ---- Precision: 1.0 / Recall: 0.81 / Accuracy: 0.972\n"
     ]
    }
   ],
   "source": [
    "#Training and Evaluating Random Forest Classifier Performance using the parameters giving the best results in Grid Search\n",
    "rf = RandomForestClassifier(n_estimators=150, max_depth=None, n_jobs=-1) \n",
    "\n",
    "start = time.time()\n",
    "rf_model = rf.fit(X_train_vect, y_train)\n",
    "end = time.time()\n",
    "fit_time = (end - start) # no of sec to fit\n",
    "\n",
    "start = time.time()\n",
    "y_pred = rf_model.predict(X_test_vect)\n",
    "end = time.time()\n",
    "pred_time = (end - start)\n",
    "\n",
    "precision, recall, fscore, train_support = score(y_test, y_pred, pos_label='spam', average='binary')\n",
    "print('Fit time: {} / Predict time: {} ---- Precision: {} / Recall: {} / Accuracy: {}'.format(\n",
    "    round(fit_time, 3), round(pred_time, 3), round(precision, 3), round(recall, 3), round((y_pred==y_test).sum()/len(y_pred), 3)))"
   ]
  },
  {
   "cell_type": "code",
   "execution_count": 33,
   "id": "2b8082f1",
   "metadata": {},
   "outputs": [
    {
     "name": "stdout",
     "output_type": "stream",
     "text": [
      "Fit time: 188.434 / Predict time: 0.257 ---- Precision: 0.918 / Recall: 0.822 / Accuracy: 0.963\n"
     ]
    }
   ],
   "source": [
    "#Training and Evaluating Gradient Booster Classifier Performance using the parameters giving the best results in Grid Search\n",
    "gb = GradientBoostingClassifier(n_estimators=150, max_depth=11,learning_rate=0.1) \n",
    "\n",
    "start = time.time()\n",
    "gb_model = gb.fit(X_train_vect, y_train)\n",
    "end = time.time()\n",
    "fit_time = (end - start)\n",
    "\n",
    "start = time.time()\n",
    "y_pred = gb_model.predict(X_test_vect)\n",
    "end = time.time()\n",
    "pred_time = (end - start)\n",
    "\n",
    "precision, recall, fscore, train_support = score(y_test, y_pred, pos_label='spam', average='binary')\n",
    "print('Fit time: {} / Predict time: {} ---- Precision: {} / Recall: {} / Accuracy: {}'.format(\n",
    "    round(fit_time, 3), round(pred_time, 3), round(precision, 3), round(recall, 3), round((y_pred==y_test).sum()/len(y_pred), 3)))"
   ]
  },
  {
   "cell_type": "markdown",
   "id": "70ebe68a",
   "metadata": {},
   "source": [
    "- The Gradient Booster took 75 times longer to fit compared to the Random Forest, but the prediction times were almost identical.\n",
    "- The Random Forest achieved 100% precision but 81% recall, while the Gradient Booster had 92% precision and 82% recall.\n",
    "- It is advisable to use the Random Forest when false positives are costly, and the Gradient Booster when false negatives are more expensive.\n",
    "\n",
    "\n",
    "\n",
    "\n",
    "\n",
    "\n"
   ]
  },
  {
   "cell_type": "code",
   "execution_count": null,
   "id": "acb3336b",
   "metadata": {},
   "outputs": [],
   "source": []
  }
 ],
 "metadata": {
  "kernelspec": {
   "display_name": "Python 3",
   "language": "python",
   "name": "python3"
  },
  "language_info": {
   "codemirror_mode": {
    "name": "ipython",
    "version": 3
   },
   "file_extension": ".py",
   "mimetype": "text/x-python",
   "name": "python",
   "nbconvert_exporter": "python",
   "pygments_lexer": "ipython3",
   "version": "3.6.13"
  }
 },
 "nbformat": 4,
 "nbformat_minor": 5
}
